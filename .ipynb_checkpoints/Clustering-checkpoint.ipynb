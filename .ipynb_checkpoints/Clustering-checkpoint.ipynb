{
 "cells": [
  {
   "cell_type": "code",
   "execution_count": 1,
   "metadata": {},
   "outputs": [],
   "source": [
    "from sklearn.cluster import KMeans\n",
    "import csv\n",
    "import numpy\n",
    "from scipy.spatial.distance import cdist\n",
    "import matplotlib.pyplot as plt"
   ]
  },
  {
   "cell_type": "code",
   "execution_count": 2,
   "metadata": {},
   "outputs": [],
   "source": [
    "data = []\n",
    "with open('data/agrupamento_Q1.csv') as file:\n",
    "    data_csv = csv.reader(file)\n",
    "    i = 0\n",
    "    for row in data_csv:\n",
    "        if i > 0:\n",
    "            data.append(list(map(float, row)))\n",
    "        i = i + 1\n",
    "data = numpy.array(data)"
   ]
  },
  {
   "cell_type": "code",
   "execution_count": 3,
   "metadata": {},
   "outputs": [],
   "source": [
    "centroids = []\n",
    "with open('data/agrup_centroides_Q1.csv') as file:\n",
    "    data_csv = csv.reader(file)\n",
    "    i = 0\n",
    "    for row in data_csv:\n",
    "        if i > 0:\n",
    "            centroids.append(list(map(float, row))[1:])\n",
    "        i = i + 1"
   ]
  },
  {
   "cell_type": "code",
   "execution_count": 4,
   "metadata": {},
   "outputs": [],
   "source": [
    "def run_kmeans(k, data):\n",
    "    return KMeans(n_clusters=k, init=numpy.array(centroids[0:k]), max_iter=10).fit(data)"
   ]
  },
  {
   "cell_type": "code",
   "execution_count": 5,
   "metadata": {},
   "outputs": [
    {
     "name": "stderr",
     "output_type": "stream",
     "text": [
      "/home/felipe/.virtualenvs/test_data/lib/python3.6/site-packages/sklearn/cluster/k_means_.py:896: RuntimeWarning: Explicit initial center position passed: performing only one init in k-means instead of n_init=10\n",
      "  return_n_iter=True)\n"
     ]
    }
   ],
   "source": [
    "distortions = []\n",
    "for i in range(1, 12):\n",
    "    kmeans = run_kmeans(i, data)\n",
    "    kmeans.fit(data)\n",
    "    distortions.append(sum(numpy.min(cdist(data, kmeans.cluster_centers_, 'euclidean'), axis=1)) / data.shape[0])"
   ]
  },
  {
   "cell_type": "code",
   "execution_count": 6,
   "metadata": {},
   "outputs": [
    {
     "data": {
      "image/png": "[encoded data removed]",
      "text/plain": [
       "<Figure size 432x288 with 1 Axes>"
      ]
     },
     "metadata": {},
     "output_type": "display_data"
    }
   ],
   "source": [
    "plt.plot(range(1, 12), distortions, 'bx-')\n",
    "plt.xlabel('k')\n",
    "plt.ylabel('Distortion')\n",
    "plt.title('The Elbow Method showing the optimal k')\n",
    "plt.show()"
   ]
  },
  {
   "cell_type": "code",
   "execution_count": 7,
   "metadata": {},
   "outputs": [
    {
     "name": "stderr",
     "output_type": "stream",
     "text": [
      "/home/felipe/.virtualenvs/test_data/lib/python3.6/site-packages/sklearn/cluster/k_means_.py:896: RuntimeWarning: Explicit initial center position passed: performing only one init in k-means instead of n_init=10\n",
      "  return_n_iter=True)\n"
     ]
    },
    {
     "data": {
      "text/plain": [
       "array([[ 1.00809727e+00,  5.65625680e-03, -6.05882233e-03,\n",
       "         2.93292716e-02],\n",
       "       [ 9.95561737e-01,  6.26153151e-04, -7.80409753e-03,\n",
       "         1.00152120e+00],\n",
       "       [ 9.95952697e-01,  6.46273222e-03,  9.99718008e-01,\n",
       "         3.14721258e-03],\n",
       "       [-3.47147275e-02,  1.63162909e-02,  1.04264751e-02,\n",
       "        -1.62407503e-02],\n",
       "       [ 9.90740088e-01,  9.93047773e-01,  9.69936615e-01,\n",
       "        -4.06482259e-03]])"
      ]
     },
     "execution_count": 7,
     "metadata": {},
     "output_type": "execute_result"
    }
   ],
   "source": [
    "kmeans_ideal = run_kmeans(5, data)\n",
    "kmeans_ideal.cluster_centers_"
   ]
  },
  {
   "cell_type": "code",
   "execution_count": null,
   "metadata": {},
   "outputs": [],
   "source": []
  }
 ],
 "metadata": {
  "kernelspec": {
   "display_name": "Python 3",
   "language": "python",
   "name": "python3"
  },
  "language_info": {
   "codemirror_mode": {
    "name": "ipython",
    "version": 3
   },
   "file_extension": ".py",
   "mimetype": "text/x-python",
   "name": "python",
   "nbconvert_exporter": "python",
   "pygments_lexer": "ipython3",
   "version": "3.6.3"
  }
 },
 "nbformat": 4,
 "nbformat_minor": 2
}
