{
 "cells": [
  {
   "cell_type": "code",
   "execution_count": 1,
   "metadata": {},
   "outputs": [],
   "source": [
    "from sklearn.naive_bayes import GaussianNB\n",
    "from sklearn import metrics\n",
    "import numpy\n",
    "import csv"
   ]
  },
  {
   "cell_type": "code",
   "execution_count": 2,
   "metadata": {},
   "outputs": [],
   "source": [
    "feature_map = {\n",
    "    'Genero': {'F': 1, 'M': 2},\n",
    "    'Idade': {\n",
    "        'a - Ate 25 anos ': 1,\n",
    "        'b - 26 a 35 anos': 2,\n",
    "        'c - 36 a 45 anos': 3, \n",
    "        'd - 46 a 55 anos': 4,\n",
    "        'e - Mais 56 anos': 5\n",
    "    },\n",
    "    'Escolaridade': {\n",
    "        'Fundamental': 1,\n",
    "        'Medio': 2,\n",
    "        'Superior': 3,\n",
    "        'Pos-graduacao': 4\n",
    "    },\n",
    "    'Profissao': {\n",
    "        'a': 1,\n",
    "        'b': 2,\n",
    "        'c': 3,\n",
    "        'd': 4,\n",
    "        'e': 5\n",
    "    }\n",
    "}"
   ]
  },
  {
   "cell_type": "code",
   "execution_count": 3,
   "metadata": {},
   "outputs": [],
   "source": [
    "features = []\n",
    "outputs = []\n",
    "\n",
    "with open('data/classificacao_Q3.csv') as file:\n",
    "    data_csv = csv.reader(file)\n",
    "    i = 0\n",
    "    for row in data_csv:\n",
    "        if i > 0:\n",
    "            maped_features = [feature_map[headers[i]][d] for i, d in enumerate(row[0:4])]\n",
    "            features.append(maped_features)\n",
    "            outputs.append(row[4])\n",
    "        else:\n",
    "            headers = row\n",
    "        i = i + 1\n",
    "features = numpy.array(features)\n",
    "outputs = numpy.array(outputs)"
   ]
  },
  {
   "cell_type": "code",
   "execution_count": 4,
   "metadata": {},
   "outputs": [
    {
     "name": "stdout",
     "output_type": "stream",
     "text": [
      "[1 1 1 2]\n",
      "0\n"
     ]
    }
   ],
   "source": [
    "print(features[0])\n",
    "print(outputs[0])"
   ]
  },
  {
   "cell_type": "code",
   "execution_count": 5,
   "metadata": {},
   "outputs": [],
   "source": [
    "nb_model = GaussianNB()\n",
    "train_features, validation_features = features[0:500], features[500:]\n",
    "train_outputs, validation_outputs = outputs[0:500], outputs[500:]\n",
    "nb_model.fit(train_features, train_outputs)\n",
    "predicted = nb_model.predict(validation_features)"
   ]
  },
  {
   "cell_type": "code",
   "execution_count": 6,
   "metadata": {},
   "outputs": [
    {
     "name": "stdout",
     "output_type": "stream",
     "text": [
      "             precision    recall  f1-score   support\n",
      "\n",
      "          0       0.50      0.35      0.41       120\n",
      "          1       0.81      0.89      0.85       380\n",
      "\n",
      "avg / total       0.74      0.76      0.74       500\n",
      "\n",
      "0.76\n"
     ]
    }
   ],
   "source": [
    "print(metrics.classification_report(validation_outputs, predicted))\n",
    "cfm = metrics.confusion_matrix(validation_outputs, predicted)\n",
    "acc = (cfm[0][0]+cfm[1][1])/cfm.sum()\n",
    "print(acc)"
   ]
  },
  {
   "cell_type": "code",
   "execution_count": 7,
   "metadata": {},
   "outputs": [
    {
     "name": "stdout",
     "output_type": "stream",
     "text": [
      "             precision    recall  f1-score   support\n",
      "\n",
      "          0       0.53      0.32      0.40       108\n",
      "          1       0.83      0.92      0.87       392\n",
      "\n",
      "avg / total       0.77      0.79      0.77       500\n",
      "\n",
      "0.76\n"
     ]
    }
   ],
   "source": [
    "predicted_train = nb_model.predict(train_features)\n",
    "print(metrics.classification_report(train_outputs, predicted_train))\n",
    "cfm = metrics.confusion_matrix(validation_outputs, predicted)\n",
    "acc = (cfm[0][0]+cfm[1][1])/cfm.sum()\n",
    "print(acc)"
   ]
  },
  {
   "cell_type": "code",
   "execution_count": null,
   "metadata": {},
   "outputs": [],
   "source": []
  }
 ],
 "metadata": {
  "kernelspec": {
   "display_name": "Python 3",
   "language": "python",
   "name": "python3"
  },
  "language_info": {
   "codemirror_mode": {
    "name": "ipython",
    "version": 3
   },
   "file_extension": ".py",
   "mimetype": "text/x-python",
   "name": "python",
   "nbconvert_exporter": "python",
   "pygments_lexer": "ipython3",
   "version": "3.6.3"
  }
 },
 "nbformat": 4,
 "nbformat_minor": 2
}
