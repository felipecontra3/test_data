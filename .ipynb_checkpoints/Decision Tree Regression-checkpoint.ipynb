{
 "cells": [
  {
   "cell_type": "code",
   "execution_count": 2,
   "metadata": {},
   "outputs": [],
   "source": [
    "import csv\n",
    "import numpy\n",
    "\n",
    "from sklearn.tree import DecisionTreeRegressor\n",
    "from sklearn.model_selection import KFold\n",
    "from sklearn.metrics import mean_squared_error"
   ]
  },
  {
   "cell_type": "code",
   "execution_count": 3,
   "metadata": {},
   "outputs": [
    {
     "name": "stdout",
     "output_type": "stream",
     "text": [
      "[ 0.59169004  0.59169004  1.17217183 -0.98367655 -1.7238606  -1.87273193\n",
      "  1.07002268 -0.62303407  1.70510222  2.64391308 -1.19189935  2.64391308\n",
      " -0.62303407  2.64391308 -1.19189935  0.5232678   1.59967807  0.22801365\n",
      "  0.63636576  1.07002268]\n",
      "183.38197899016586\n"
     ]
    }
   ],
   "source": [
    "features = []\n",
    "outputs = []\n",
    "\n",
    "with open('data/regressao_Q7.csv') as file:\n",
    "    data_csv = csv.reader(file)\n",
    "    i = 0\n",
    "    for row in data_csv:\n",
    "        if i > 0:\n",
    "            features.append(list(map(float, row[0:20])))\n",
    "            outputs.append(row[20])\n",
    "        else:\n",
    "            headers = row\n",
    "        i = i + 1\n",
    "features = numpy.array(features)\n",
    "outputs = numpy.array(outputs)\n",
    "print(features[0])\n",
    "print(outputs[0])"
   ]
  },
  {
   "cell_type": "code",
   "execution_count": 19,
   "metadata": {},
   "outputs": [
    {
     "name": "stdout",
     "output_type": "stream",
     "text": [
      "4518.600643959709\n",
      "2.140999270445447e-11\n"
     ]
    }
   ],
   "source": [
    "kf = KFold(n_splits=10)\n",
    "rmse_test = []\n",
    "rmse_train = []\n",
    "for train, test in kf.split(features):\n",
    "    dt_model = DecisionTreeRegressor()\n",
    "    dt_model.fit(features[train], outputs[train])\n",
    "    \n",
    "    predicted = dt_model.predict(features[test])\n",
    "    predicted_train = dt_model.predict(features[train])\n",
    "    rmse_test.append(mean_squared_error(predicted, list(map(float, outputs[test]))))\n",
    "    rmse_train.append(mean_squared_error(predicted_train, list(map(float, outputs[train]))))\n",
    "    \n",
    "print(numpy.array(rmse_test).mean())\n",
    "print(numpy.array(rmse_train).mean())"
   ]
  },
  {
   "cell_type": "code",
   "execution_count": null,
   "metadata": {},
   "outputs": [],
   "source": []
  }
 ],
 "metadata": {
  "kernelspec": {
   "display_name": "Python 3",
   "language": "python",
   "name": "python3"
  },
  "language_info": {
   "codemirror_mode": {
    "name": "ipython",
    "version": 3
   },
   "file_extension": ".py",
   "mimetype": "text/x-python",
   "name": "python",
   "nbconvert_exporter": "python",
   "pygments_lexer": "ipython3",
   "version": "3.6.3"
  }
 },
 "nbformat": 4,
 "nbformat_minor": 2
}
