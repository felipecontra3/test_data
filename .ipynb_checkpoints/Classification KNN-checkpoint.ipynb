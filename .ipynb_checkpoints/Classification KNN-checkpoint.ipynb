{
 "cells": [
  {
   "cell_type": "code",
   "execution_count": 28,
   "metadata": {},
   "outputs": [],
   "source": [
    "from sklearn.neighbors import KNeighborsClassifier\n",
    "from sklearn import metrics\n",
    "import numpy\n",
    "import csv\n",
    "from sklearn.model_selection import KFold\n",
    "from sklearn.metrics import accuracy_score"
   ]
  },
  {
   "cell_type": "code",
   "execution_count": 8,
   "metadata": {},
   "outputs": [],
   "source": [
    "features = []\n",
    "outputs = []\n",
    "\n",
    "with open('data/classificacao_Q4.csv') as file:\n",
    "    data_csv = csv.reader(file)\n",
    "    i = 0\n",
    "    for row in data_csv:\n",
    "        if i > 0:\n",
    "            features.append(list(map(float, row[0:100])))\n",
    "            outputs.append(row[100])\n",
    "        else:\n",
    "            headers = row\n",
    "        i = i + 1\n",
    "features = numpy.array(features)\n",
    "outputs = numpy.array(outputs)"
   ]
  },
  {
   "cell_type": "code",
   "execution_count": 9,
   "metadata": {},
   "outputs": [
    {
     "name": "stdout",
     "output_type": "stream",
     "text": [
      "[ 1.69619932 -0.79259839 -0.34942688 -0.46455989  3.18701399  0.03597627\n",
      "  1.03327351 -1.50496812  0.20469344  1.69120364 -0.14866753 -4.07409741\n",
      " -0.03289563 -0.66349397 -0.3860162  -0.23780486 -1.51052262 -1.57086441\n",
      " -0.36860509  0.81250292  0.54990535 -0.7302596   0.76142327  1.12827344\n",
      " -1.76374976  0.5796919  -0.29367401  0.29550008 -0.42723147 -0.29543367\n",
      " -2.62655222 -0.88890843  0.36010958 -3.08564379 -0.94531574 -0.90448618\n",
      "  1.07222331  1.77811505 -0.14805065  0.63457432  0.20962809  0.56124369\n",
      " -0.58696819 -3.70235093 -0.64908733  0.06664806  0.52163745 -0.31887327\n",
      " -0.96463197 -0.06829261 -1.94171694  0.01129992 -0.030974    1.66653412\n",
      "  1.90717407  0.45406533  0.15789935 -1.41537843 -0.22042816 -1.1635913\n",
      "  0.64370058 -0.59397456 -0.23001988  2.14266848 -1.15089558  1.98067657\n",
      "  1.1157552   0.5111755  -0.52604326 -0.49222528  1.29132212 -0.79522274\n",
      "  1.29244821  0.80456239  0.82247968 -1.20500572 -0.28088686 -1.36409849\n",
      "  0.31199975 -1.92546149  0.49801187  0.37139367  0.17617532  0.5474304\n",
      "  1.0582469   0.50335106  1.01899687  0.22121349 -0.41900012 -0.85873685\n",
      " -0.53435955  1.48814207 -0.68633695  2.08497012 -0.68513974 -2.04945133\n",
      "  2.01542611  1.1584772  -0.30944077 -1.54983294]\n",
      "4.0\n"
     ]
    }
   ],
   "source": [
    "print(features[0])\n",
    "print(outputs[0])"
   ]
  },
  {
   "cell_type": "code",
   "execution_count": 34,
   "metadata": {},
   "outputs": [
    {
     "name": "stdout",
     "output_type": "stream",
     "text": [
      "0.6519999999999999\n"
     ]
    }
   ],
   "source": [
    "kf = KFold(n_splits=10)\n",
    "accs = []\n",
    "for train, test in kf.split(features):\n",
    "    # notar que com p=2 (default) e metric='minkowski' a tem-se distância euclidiana\n",
    "    knn_model = KNeighborsClassifier(n_neighbors=15)\n",
    "    knn_model.fit(features[train], outputs[train])\n",
    "    predicted = knn_model.predict(features[test])\n",
    "    accs.append(accuracy_score(predicted, outputs[test]))\n",
    "print(numpy.array(accs).mean())"
   ]
  },
  {
   "cell_type": "code",
   "execution_count": null,
   "metadata": {},
   "outputs": [],
   "source": []
  }
 ],
 "metadata": {
  "kernelspec": {
   "display_name": "Python 3",
   "language": "python",
   "name": "python3"
  },
  "language_info": {
   "codemirror_mode": {
    "name": "ipython",
    "version": 3
   },
   "file_extension": ".py",
   "mimetype": "text/x-python",
   "name": "python",
   "nbconvert_exporter": "python",
   "pygments_lexer": "ipython3",
   "version": "3.6.3"
  }
 },
 "nbformat": 4,
 "nbformat_minor": 2
}
