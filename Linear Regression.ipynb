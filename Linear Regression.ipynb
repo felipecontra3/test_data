{
 "cells": [
  {
   "cell_type": "code",
   "execution_count": 1,
   "metadata": {},
   "outputs": [],
   "source": [
    "import numpy\n",
    "import csv\n",
    "from sklearn.linear_model import Ridge\n",
    "from sklearn.model_selection import LeaveOneOut\n",
    "from sklearn.metrics import mean_squared_error\n",
    "from math import sqrt"
   ]
  },
  {
   "cell_type": "code",
   "execution_count": 2,
   "metadata": {},
   "outputs": [],
   "source": [
    "features = []\n",
    "outputs = []\n",
    "\n",
    "with open('data/regressao_Q6.csv') as file:\n",
    "    data_csv = csv.reader(file)\n",
    "    i = 0\n",
    "    for row in data_csv:\n",
    "        if i > 0:\n",
    "            features.append(list(map(float, row[0:10])))\n",
    "            outputs.append(row[10])\n",
    "        else:\n",
    "            headers = row\n",
    "        i = i + 1\n",
    "features = numpy.array(features)\n",
    "outputs = numpy.array(outputs)"
   ]
  },
  {
   "cell_type": "code",
   "execution_count": 3,
   "metadata": {},
   "outputs": [
    {
     "name": "stdout",
     "output_type": "stream",
     "text": [
      "[-0.35183672  0.71946212  0.86252193 -1.13104889  0.7449029   0.53217653\n",
      "  1.59557248  0.60717393  1.30669552  0.45002248]\n",
      "170.47169558790597\n"
     ]
    }
   ],
   "source": [
    "print(features[0])\n",
    "print(outputs[0])"
   ]
  },
  {
   "cell_type": "code",
   "execution_count": 4,
   "metadata": {},
   "outputs": [
    {
     "name": "stdout",
     "output_type": "stream",
     "text": [
      "27.700816666167963\n",
      "27.431741940951234\n"
     ]
    }
   ],
   "source": [
    "loo = LeaveOneOut()\n",
    "predicted = []\n",
    "real = []\n",
    "train_rmse = []\n",
    "for train, test in loo.split(features):\n",
    "    ridge_model = Ridge(alpha = 1.7)\n",
    "    ridge_model.fit(features[train], outputs[train])\n",
    "    predicted.append(float(ridge_model.predict(features[test])))\n",
    "    real.append(float(outputs[test]))\n",
    "    \n",
    "    train_predicted = ridge_model.predict(features[train])\n",
    "    train_rmse.append(sqrt(mean_squared_error(list(map(float, outputs[train])), train_predicted)))\n",
    "print(sqrt(mean_squared_error(real, predicted)))\n",
    "print(numpy.array(train_rmse).mean())"
   ]
  },
  {
   "cell_type": "code",
   "execution_count": null,
   "metadata": {},
   "outputs": [],
   "source": []
  }
 ],
 "metadata": {
  "kernelspec": {
   "display_name": "Python 3",
   "language": "python",
   "name": "python3"
  },
  "language_info": {
   "codemirror_mode": {
    "name": "ipython",
    "version": 3
   },
   "file_extension": ".py",
   "mimetype": "text/x-python",
   "name": "python",
   "nbconvert_exporter": "python",
   "pygments_lexer": "ipython3",
   "version": "3.6.3"
  }
 },
 "nbformat": 4,
 "nbformat_minor": 2
}
